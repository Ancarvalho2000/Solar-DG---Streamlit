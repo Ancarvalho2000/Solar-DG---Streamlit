{
 "cells": [
  {
   "cell_type": "code",
   "execution_count": 1,
   "metadata": {},
   "outputs": [],
   "source": [
    "import pandas as pd\n",
    "import numpy as np\n",
    "%matplotlib inline"
   ]
  },
  {
   "cell_type": "code",
   "execution_count": 2,
   "metadata": {},
   "outputs": [],
   "source": [
    "df1 = pd.read_csv(\n",
    "    r'C:\\Users\\Utilizador\\Desktop\\Uni\\Estágios\\2025 - InnoWave\\Solar DG\\solar_data\\Plant_1_Generation_Data.csv',\n",
    "    encoding='utf-8',\n",
    "    engine='python',\n",
    "    index_col='DATE_TIME'\n",
    ")"
   ]
  },
  {
   "cell_type": "code",
   "execution_count": 3,
   "metadata": {},
   "outputs": [
    {
     "name": "stderr",
     "output_type": "stream",
     "text": [
      "c:\\Users\\Utilizador\\miniconda3\\envs\\tsa_course\\lib\\site-packages\\sklearn\\utils\\validation.py:37: DeprecationWarning: distutils Version classes are deprecated. Use packaging.version instead.\n",
      "  LARGE_SPARSE_SUPPORTED = LooseVersion(scipy_version) >= '0.14.0'\n",
      "c:\\Users\\Utilizador\\miniconda3\\envs\\tsa_course\\lib\\site-packages\\sklearn\\linear_model\\least_angle.py:35: DeprecationWarning: `np.float` is a deprecated alias for the builtin `float`. To silence this warning, use `float` by itself. Doing this will not modify any behavior and is safe. If you specifically wanted the numpy scalar type, use `np.float64` here.\n",
      "Deprecated in NumPy 1.20; for more details and guidance: https://numpy.org/devdocs/release/1.20.0-notes.html#deprecations\n",
      "  eps=np.finfo(np.float).eps,\n",
      "c:\\Users\\Utilizador\\miniconda3\\envs\\tsa_course\\lib\\site-packages\\sklearn\\linear_model\\least_angle.py:597: DeprecationWarning: `np.float` is a deprecated alias for the builtin `float`. To silence this warning, use `float` by itself. Doing this will not modify any behavior and is safe. If you specifically wanted the numpy scalar type, use `np.float64` here.\n",
      "Deprecated in NumPy 1.20; for more details and guidance: https://numpy.org/devdocs/release/1.20.0-notes.html#deprecations\n",
      "  eps=np.finfo(np.float).eps, copy_X=True, fit_path=True,\n",
      "c:\\Users\\Utilizador\\miniconda3\\envs\\tsa_course\\lib\\site-packages\\sklearn\\linear_model\\least_angle.py:836: DeprecationWarning: `np.float` is a deprecated alias for the builtin `float`. To silence this warning, use `float` by itself. Doing this will not modify any behavior and is safe. If you specifically wanted the numpy scalar type, use `np.float64` here.\n",
      "Deprecated in NumPy 1.20; for more details and guidance: https://numpy.org/devdocs/release/1.20.0-notes.html#deprecations\n",
      "  eps=np.finfo(np.float).eps, copy_X=True, fit_path=True,\n",
      "c:\\Users\\Utilizador\\miniconda3\\envs\\tsa_course\\lib\\site-packages\\sklearn\\linear_model\\least_angle.py:862: DeprecationWarning: `np.float` is a deprecated alias for the builtin `float`. To silence this warning, use `float` by itself. Doing this will not modify any behavior and is safe. If you specifically wanted the numpy scalar type, use `np.float64` here.\n",
      "Deprecated in NumPy 1.20; for more details and guidance: https://numpy.org/devdocs/release/1.20.0-notes.html#deprecations\n",
      "  eps=np.finfo(np.float).eps, positive=False):\n",
      "c:\\Users\\Utilizador\\miniconda3\\envs\\tsa_course\\lib\\site-packages\\sklearn\\linear_model\\least_angle.py:1097: DeprecationWarning: `np.float` is a deprecated alias for the builtin `float`. To silence this warning, use `float` by itself. Doing this will not modify any behavior and is safe. If you specifically wanted the numpy scalar type, use `np.float64` here.\n",
      "Deprecated in NumPy 1.20; for more details and guidance: https://numpy.org/devdocs/release/1.20.0-notes.html#deprecations\n",
      "  max_n_alphas=1000, n_jobs=None, eps=np.finfo(np.float).eps,\n",
      "c:\\Users\\Utilizador\\miniconda3\\envs\\tsa_course\\lib\\site-packages\\sklearn\\linear_model\\least_angle.py:1344: DeprecationWarning: `np.float` is a deprecated alias for the builtin `float`. To silence this warning, use `float` by itself. Doing this will not modify any behavior and is safe. If you specifically wanted the numpy scalar type, use `np.float64` here.\n",
      "Deprecated in NumPy 1.20; for more details and guidance: https://numpy.org/devdocs/release/1.20.0-notes.html#deprecations\n",
      "  max_n_alphas=1000, n_jobs=None, eps=np.finfo(np.float).eps,\n",
      "c:\\Users\\Utilizador\\miniconda3\\envs\\tsa_course\\lib\\site-packages\\sklearn\\linear_model\\least_angle.py:1480: DeprecationWarning: `np.float` is a deprecated alias for the builtin `float`. To silence this warning, use `float` by itself. Doing this will not modify any behavior and is safe. If you specifically wanted the numpy scalar type, use `np.float64` here.\n",
      "Deprecated in NumPy 1.20; for more details and guidance: https://numpy.org/devdocs/release/1.20.0-notes.html#deprecations\n",
      "  eps=np.finfo(np.float).eps, copy_X=True, positive=False):\n",
      "c:\\Users\\Utilizador\\miniconda3\\envs\\tsa_course\\lib\\site-packages\\sklearn\\linear_model\\randomized_l1.py:152: DeprecationWarning: `np.float` is a deprecated alias for the builtin `float`. To silence this warning, use `float` by itself. Doing this will not modify any behavior and is safe. If you specifically wanted the numpy scalar type, use `np.float64` here.\n",
      "Deprecated in NumPy 1.20; for more details and guidance: https://numpy.org/devdocs/release/1.20.0-notes.html#deprecations\n",
      "  precompute=False, eps=np.finfo(np.float).eps,\n",
      "c:\\Users\\Utilizador\\miniconda3\\envs\\tsa_course\\lib\\site-packages\\sklearn\\linear_model\\randomized_l1.py:320: DeprecationWarning: `np.float` is a deprecated alias for the builtin `float`. To silence this warning, use `float` by itself. Doing this will not modify any behavior and is safe. If you specifically wanted the numpy scalar type, use `np.float64` here.\n",
      "Deprecated in NumPy 1.20; for more details and guidance: https://numpy.org/devdocs/release/1.20.0-notes.html#deprecations\n",
      "  eps=np.finfo(np.float).eps, random_state=None,\n",
      "c:\\Users\\Utilizador\\miniconda3\\envs\\tsa_course\\lib\\site-packages\\sklearn\\linear_model\\randomized_l1.py:580: DeprecationWarning: `np.float` is a deprecated alias for the builtin `float`. To silence this warning, use `float` by itself. Doing this will not modify any behavior and is safe. If you specifically wanted the numpy scalar type, use `np.float64` here.\n",
      "Deprecated in NumPy 1.20; for more details and guidance: https://numpy.org/devdocs/release/1.20.0-notes.html#deprecations\n",
      "  eps=4 * np.finfo(np.float).eps, n_jobs=None,\n"
     ]
    }
   ],
   "source": [
    "from pmdarima import auto_arima"
   ]
  },
  {
   "cell_type": "code",
   "execution_count": 4,
   "metadata": {},
   "outputs": [],
   "source": [
    "import warnings\n",
    "warnings.filterwarnings('ignore')"
   ]
  },
  {
   "cell_type": "code",
   "execution_count": 5,
   "metadata": {},
   "outputs": [
    {
     "name": "stdout",
     "output_type": "stream",
     "text": [
      "Fit ARIMA: order=(0, 1, 0); AIC=81290.287, BIC=81303.321, Fit time=0.013 seconds\n",
      "Fit ARIMA: order=(1, 1, 0); AIC=79171.047, BIC=79190.598, Fit time=0.047 seconds\n",
      "Fit ARIMA: order=(0, 1, 1); AIC=78669.501, BIC=78689.052, Fit time=0.072 seconds\n",
      "Fit ARIMA: order=(1, 1, 1); AIC=78447.289, BIC=78473.357, Fit time=0.727 seconds\n",
      "Fit ARIMA: order=(1, 1, 2); AIC=78372.500, BIC=78405.085, Fit time=0.746 seconds\n",
      "Fit ARIMA: order=(0, 1, 2); AIC=78374.769, BIC=78400.837, Fit time=0.155 seconds\n",
      "Fit ARIMA: order=(2, 1, 2); AIC=77910.105, BIC=77949.207, Fit time=0.932 seconds\n",
      "Fit ARIMA: order=(2, 1, 1); AIC=78369.400, BIC=78401.985, Fit time=0.753 seconds\n",
      "Fit ARIMA: order=(3, 1, 2); AIC=77795.912, BIC=77841.531, Fit time=0.964 seconds\n",
      "Fit ARIMA: order=(3, 1, 1); AIC=78219.885, BIC=78258.986, Fit time=0.983 seconds\n",
      "Total fit time: 5.464 seconds\n"
     ]
    }
   ],
   "source": [
    "stepwise_fit = auto_arima(\n",
    "                          df1['DAILY_YIELD'][:5000],\n",
    "                          start_p=0, start_q=0, max_p=3,\n",
    "                          max_q=2,\n",
    "                          d=None,\n",
    "                          seasonal=False,\n",
    "                          stepwise=True,\n",
    "                          n_jobs=1,\n",
    "                          trace=True)"
   ]
  },
  {
   "cell_type": "code",
   "execution_count": 6,
   "metadata": {},
   "outputs": [
    {
     "data": {
      "text/html": [
       "<table class=\"simpletable\">\n",
       "<caption>ARIMA Model Results</caption>\n",
       "<tr>\n",
       "  <th>Dep. Variable:</th>        <td>D.y</td>       <th>  No. Observations:  </th>    <td>4999</td>   \n",
       "</tr>\n",
       "<tr>\n",
       "  <th>Model:</th>          <td>ARIMA(3, 1, 2)</td>  <th>  Log Likelihood     </th> <td>-38890.956</td>\n",
       "</tr>\n",
       "<tr>\n",
       "  <th>Method:</th>             <td>css-mle</td>     <th>  S.D. of innovations</th>   <td>578.615</td> \n",
       "</tr>\n",
       "<tr>\n",
       "  <th>Date:</th>          <td>Wed, 13 Aug 2025</td> <th>  AIC                </th>  <td>77795.912</td>\n",
       "</tr>\n",
       "<tr>\n",
       "  <th>Time:</th>              <td>09:19:02</td>     <th>  BIC                </th>  <td>77841.531</td>\n",
       "</tr>\n",
       "<tr>\n",
       "  <th>Sample:</th>                <td>1</td>        <th>  HQIC               </th>  <td>77811.901</td>\n",
       "</tr>\n",
       "<tr>\n",
       "  <th></th>                       <td> </td>        <th>                     </th>      <td> </td>    \n",
       "</tr>\n",
       "</table>\n",
       "<table class=\"simpletable\">\n",
       "<tr>\n",
       "      <td></td>         <th>coef</th>     <th>std err</th>      <th>z</th>      <th>P>|z|</th>  <th>[0.025</th>    <th>0.975]</th>  \n",
       "</tr>\n",
       "<tr>\n",
       "  <th>const</th>     <td>    0.8554</td> <td>    1.407</td> <td>    0.608</td> <td> 0.543</td> <td>   -1.902</td> <td>    3.613</td>\n",
       "</tr>\n",
       "<tr>\n",
       "  <th>ar.L1.D.y</th> <td>   -0.6955</td> <td>    0.017</td> <td>  -41.310</td> <td> 0.000</td> <td>   -0.728</td> <td>   -0.662</td>\n",
       "</tr>\n",
       "<tr>\n",
       "  <th>ar.L2.D.y</th> <td>    0.3729</td> <td>    0.021</td> <td>   17.400</td> <td> 0.000</td> <td>    0.331</td> <td>    0.415</td>\n",
       "</tr>\n",
       "<tr>\n",
       "  <th>ar.L3.D.y</th> <td>    0.4504</td> <td>    0.015</td> <td>   29.521</td> <td> 0.000</td> <td>    0.420</td> <td>    0.480</td>\n",
       "</tr>\n",
       "<tr>\n",
       "  <th>ma.L1.D.y</th> <td>   -0.0436</td> <td>    0.011</td> <td>   -3.911</td> <td> 0.000</td> <td>   -0.065</td> <td>   -0.022</td>\n",
       "</tr>\n",
       "<tr>\n",
       "  <th>ma.L2.D.y</th> <td>   -0.8068</td> <td>    0.009</td> <td>  -85.450</td> <td> 0.000</td> <td>   -0.825</td> <td>   -0.788</td>\n",
       "</tr>\n",
       "</table>\n",
       "<table class=\"simpletable\">\n",
       "<caption>Roots</caption>\n",
       "<tr>\n",
       "    <td></td>   <th>            Real</th>  <th>         Imaginary</th> <th>         Modulus</th>  <th>        Frequency</th>\n",
       "</tr>\n",
       "<tr>\n",
       "  <th>AR.1</th> <td>           1.4023</td> <td>          -0.0000j</td> <td>           1.4023</td> <td>          -0.0000</td>\n",
       "</tr>\n",
       "<tr>\n",
       "  <th>AR.2</th> <td>          -1.1152</td> <td>          -0.5829j</td> <td>           1.2583</td> <td>          -0.4233</td>\n",
       "</tr>\n",
       "<tr>\n",
       "  <th>AR.3</th> <td>          -1.1152</td> <td>          +0.5829j</td> <td>           1.2583</td> <td>           0.4233</td>\n",
       "</tr>\n",
       "<tr>\n",
       "  <th>MA.1</th> <td>           1.0867</td> <td>          +0.0000j</td> <td>           1.0867</td> <td>           0.0000</td>\n",
       "</tr>\n",
       "<tr>\n",
       "  <th>MA.2</th> <td>          -1.1407</td> <td>          +0.0000j</td> <td>           1.1407</td> <td>           0.5000</td>\n",
       "</tr>\n",
       "</table>"
      ],
      "text/plain": [
       "<class 'statsmodels.iolib.summary.Summary'>\n",
       "\"\"\"\n",
       "                             ARIMA Model Results                              \n",
       "==============================================================================\n",
       "Dep. Variable:                    D.y   No. Observations:                 4999\n",
       "Model:                 ARIMA(3, 1, 2)   Log Likelihood              -38890.956\n",
       "Method:                       css-mle   S.D. of innovations            578.615\n",
       "Date:                Wed, 13 Aug 2025   AIC                          77795.912\n",
       "Time:                        09:19:02   BIC                          77841.531\n",
       "Sample:                             1   HQIC                         77811.901\n",
       "                                                                              \n",
       "==============================================================================\n",
       "                 coef    std err          z      P>|z|      [0.025      0.975]\n",
       "------------------------------------------------------------------------------\n",
       "const          0.8554      1.407      0.608      0.543      -1.902       3.613\n",
       "ar.L1.D.y     -0.6955      0.017    -41.310      0.000      -0.728      -0.662\n",
       "ar.L2.D.y      0.3729      0.021     17.400      0.000       0.331       0.415\n",
       "ar.L3.D.y      0.4504      0.015     29.521      0.000       0.420       0.480\n",
       "ma.L1.D.y     -0.0436      0.011     -3.911      0.000      -0.065      -0.022\n",
       "ma.L2.D.y     -0.8068      0.009    -85.450      0.000      -0.825      -0.788\n",
       "                                    Roots                                    \n",
       "=============================================================================\n",
       "                  Real          Imaginary           Modulus         Frequency\n",
       "-----------------------------------------------------------------------------\n",
       "AR.1            1.4023           -0.0000j            1.4023           -0.0000\n",
       "AR.2           -1.1152           -0.5829j            1.2583           -0.4233\n",
       "AR.3           -1.1152           +0.5829j            1.2583            0.4233\n",
       "MA.1            1.0867           +0.0000j            1.0867            0.0000\n",
       "MA.2           -1.1407           +0.0000j            1.1407            0.5000\n",
       "-----------------------------------------------------------------------------\n",
       "\"\"\""
      ]
     },
     "execution_count": 6,
     "metadata": {},
     "output_type": "execute_result"
    }
   ],
   "source": [
    "stepwise_fit.summary()"
   ]
  },
  {
   "cell_type": "code",
   "execution_count": 7,
   "metadata": {},
   "outputs": [
    {
     "name": "stdout",
     "output_type": "stream",
     "text": [
      "Fit ARIMA: order=(0, 1, 0) seasonal_order=(1, 0, 1, 12); AIC=81225.474, BIC=81251.542, Fit time=1.590 seconds\n",
      "Fit ARIMA: order=(0, 1, 0) seasonal_order=(0, 0, 0, 12); AIC=81290.287, BIC=81303.321, Fit time=0.067 seconds\n",
      "Fit ARIMA: order=(1, 1, 0) seasonal_order=(1, 0, 0, 12); AIC=79167.739, BIC=79193.807, Fit time=0.743 seconds\n",
      "Fit ARIMA: order=(0, 1, 1) seasonal_order=(0, 0, 1, 12); AIC=78667.695, BIC=78693.763, Fit time=3.898 seconds\n",
      "Fit ARIMA: order=(0, 1, 1) seasonal_order=(1, 0, 1, 12); AIC=78629.312, BIC=78661.897, Fit time=7.232 seconds\n",
      "Fit ARIMA: order=(0, 1, 1) seasonal_order=(1, 0, 0, 12); AIC=78666.848, BIC=78692.916, Fit time=3.760 seconds\n",
      "Fit ARIMA: order=(0, 1, 1) seasonal_order=(1, 0, 2, 12); AIC=78602.110, BIC=78641.212, Fit time=19.774 seconds\n",
      "Fit ARIMA: order=(1, 1, 1) seasonal_order=(1, 0, 2, 12); AIC=78264.769, BIC=78310.388, Fit time=35.393 seconds\n",
      "Fit ARIMA: order=(1, 1, 0) seasonal_order=(1, 0, 2, 12); AIC=78825.680, BIC=78864.782, Fit time=57.701 seconds\n",
      "Fit ARIMA: order=(1, 1, 2) seasonal_order=(1, 0, 2, 12); AIC=78369.151, BIC=78421.287, Fit time=48.261 seconds\n",
      "Fit ARIMA: order=(0, 1, 0) seasonal_order=(1, 0, 2, 12); AIC=81198.980, BIC=81231.565, Fit time=16.353 seconds\n",
      "Fit ARIMA: order=(2, 1, 2) seasonal_order=(1, 0, 2, 12); AIC=78169.092, BIC=78227.745, Fit time=55.748 seconds\n",
      "Fit ARIMA: order=(2, 1, 2) seasonal_order=(0, 0, 2, 12); AIC=78352.245, BIC=78404.381, Fit time=48.553 seconds\n",
      "Fit ARIMA: order=(2, 1, 2) seasonal_order=(2, 0, 2, 12); AIC=77907.822, BIC=77972.992, Fit time=71.188 seconds\n",
      "Fit ARIMA: order=(2, 1, 2) seasonal_order=(2, 0, 1, 12); AIC=78147.338, BIC=78205.991, Fit time=56.432 seconds\n",
      "Fit ARIMA: order=(2, 1, 2) seasonal_order=(1, 0, 1, 12); AIC=78352.866, BIC=78405.002, Fit time=12.619 seconds\n",
      "Fit ARIMA: order=(1, 1, 2) seasonal_order=(2, 0, 2, 12); AIC=78367.844, BIC=78426.496, Fit time=31.339 seconds\n",
      "Fit ARIMA: order=(3, 1, 2) seasonal_order=(2, 0, 2, 12); AIC=77477.100, BIC=77548.786, Fit time=46.812 seconds\n",
      "Fit ARIMA: order=(3, 1, 1) seasonal_order=(2, 0, 2, 12); AIC=78008.026, BIC=78073.196, Fit time=49.444 seconds\n",
      "Fit ARIMA: order=(2, 1, 1) seasonal_order=(2, 0, 2, 12); AIC=77689.443, BIC=77748.096, Fit time=38.967 seconds\n",
      "Fit ARIMA: order=(3, 1, 2) seasonal_order=(1, 0, 2, 12); AIC=77681.831, BIC=77747.001, Fit time=51.244 seconds\n",
      "Fit ARIMA: order=(3, 1, 2) seasonal_order=(2, 0, 1, 12); AIC=77662.554, BIC=77727.724, Fit time=48.827 seconds\n",
      "Fit ARIMA: order=(3, 1, 2) seasonal_order=(1, 0, 1, 12); AIC=77694.331, BIC=77752.984, Fit time=10.504 seconds\n",
      "Total fit time: 716.494 seconds\n"
     ]
    }
   ],
   "source": [
    "stepwise_fit = auto_arima(\n",
    "                          df1['DAILY_YIELD'][:5000],\n",
    "                          start_p=0, start_q=0, max_p=3,\n",
    "                          max_q=2,\n",
    "                          d=None,\n",
    "                          seasonal=True,\n",
    "                          stepwise=True,\n",
    "                          n_jobs=1,\n",
    "                          trace=True,\n",
    "                          m=12)"
   ]
  },
  {
   "cell_type": "code",
   "execution_count": null,
   "metadata": {},
   "outputs": [],
   "source": []
  }
 ],
 "metadata": {
  "kernelspec": {
   "display_name": "Python (tsa_course)",
   "language": "python",
   "name": "tsa_course"
  },
  "language_info": {
   "codemirror_mode": {
    "name": "ipython",
    "version": 3
   },
   "file_extension": ".py",
   "mimetype": "text/x-python",
   "name": "python",
   "nbconvert_exporter": "python",
   "pygments_lexer": "ipython3",
   "version": "3.7.2"
  }
 },
 "nbformat": 4,
 "nbformat_minor": 2
}
